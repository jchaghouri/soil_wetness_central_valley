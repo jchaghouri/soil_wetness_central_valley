{
 "cells": [
  {
   "cell_type": "code",
   "execution_count": 1,
   "id": "d2b2f830",
   "metadata": {},
   "outputs": [],
   "source": [
    "import sqlite3\n",
    "import pandas as pd"
   ]
  },
  {
   "cell_type": "code",
   "execution_count": 2,
   "id": "79ca68f8",
   "metadata": {},
   "outputs": [],
   "source": [
    "\n",
    "conn = sqlite3.connect('soil_database') \n",
    "c = conn.cursor()\n",
    "\n",
    "c.execute('''CREATE TABLE IF NOT EXISTS counties (\n",
    "                county_fips_id int NOT NULL,\n",
    "                county_name text NOT NULL,\n",
    "                PRIMARY KEY (county_fips_id))''')\n",
    "\n",
    "\n",
    "c.execute('''\n",
    "          CREATE TABLE IF NOT EXISTS soil_wetness(\n",
    "          county_fips_id int not null,\n",
    "          value float,\n",
    "          years INT,\n",
    "          foreign key (county_fips_id) references counties(county_fips_id))''')\n",
    "          \n",
    "\n",
    "\n",
    "\n",
    "\n",
    "\n",
    "# HERE IS WHERE WE PUT DATA INTO THE DB\n",
    "                     \n",
    "c.execute('''\n",
    "          INSERT OR IGNORE INTO counties(county_fips_id, county_name)\n",
    "\n",
    "                VALUES\n",
    "                (001,'Alameda'),\n",
    "                ('047','Merced'),\n",
    "                ('067','Sacramento'),\n",
    "                ('077','San Joaquin'),\n",
    "                ('095','Solano'),\n",
    "                ('099','Stanislaus'),\n",
    "                ('113','Yolo')\n",
    "          ''')\n",
    "\n",
    "c.execute('''\n",
    "          INSERT INTO soil_wetness (county_fips_id, value, years)\n",
    "\n",
    "                VALUES\n",
    "                ('001',0.58,2011),\n",
    "                ('001',0.45,2012),\n",
    "                ('001',0.42,2013),\n",
    "                ('001',0.41,2014),\n",
    "                ('001',0.47,2015),\n",
    "                ('001',0.55,2016),\n",
    "                ('001',0.55,2017),\n",
    "                ('001',0.44,2018),\n",
    "                ('001',0.54,2019),\n",
    "                ('001',0.41,2020),\n",
    "                ('001',0.42,2021),\n",
    "                ('047',0.43,2011),\n",
    "                ('047',0.31,2012),\n",
    "                ('047',0.3,2013),\n",
    "                ('047',0.29,2014),\n",
    "                ('047',0.33,2015),\n",
    "                ('047',0.38,2016),\n",
    "                ('047',0.41,2017),\n",
    "                ('047',0.3,2018),\n",
    "                ('047',0.37,2019),\n",
    "                ('047',0.3,2020),\n",
    "                ('047',0.31,2021),\n",
    "                ('067',0.5,2011),\n",
    "                ('067',0.38,2012),\n",
    "                ('067',0.38,2013),\n",
    "                ('067',0.37,2014),\n",
    "                ('067',0.39,2015),\n",
    "                ('067',0.48,2016),\n",
    "                ('067',0.54,2017),\n",
    "                ('067',0.41,2018),\n",
    "                ('067',0.49,2019),\n",
    "                ('067',0.34,2020),\n",
    "                ('067',0.38,2021),\n",
    "                ('077',0.46,2011),\n",
    "                ('077',0.35,2012),\n",
    "                ('077',0.35,2013),\n",
    "                ('077',0.34,2014),\n",
    "                ('077',0.38,2015),\n",
    "                ('077',0.44,2016),\n",
    "                ('077',0.48,2017),\n",
    "                ('077',0.37,2018),\n",
    "                ('077',0.44,2019),\n",
    "                ('077',0.31,2020),\n",
    "                ('077',0.34,2021),\n",
    "                ('095',0.5,2011),\n",
    "                ('095',0.38,2012),\n",
    "                ('095',0.38,2013),\n",
    "                ('095',0.38,2014),\n",
    "                ('095',0.42,2015),\n",
    "                ('095',0.54,2016),\n",
    "                ('095',0.58,2017),\n",
    "                ('095',0.45,2018),\n",
    "                ('095',0.55,2019),\n",
    "                ('095',0.4,2020),\n",
    "                ('095',0.55,2021),\n",
    "                ('099',0.48,2011),\n",
    "                ('099',0.36,2012),\n",
    "                ('099',0.35,2013),\n",
    "                ('099',0.34,2014),\n",
    "                ('099',0.39,2015),\n",
    "                ('099',0.45,2016),\n",
    "                ('099',0.47,2017),\n",
    "                ('099',0.35,2018),\n",
    "                ('099',0.44,2019),\n",
    "                ('099',0.32,2020),\n",
    "                ('099',0.34,2021),\n",
    "                ('113',0.51,2011),\n",
    "                ('113',0.38,2012),\n",
    "                ('113',0.38,2013),\n",
    "                ('113',0.38,2014),\n",
    "                ('113',0.41,2015),\n",
    "                ('113',0.52,2016),\n",
    "                ('113',0.56,2017),\n",
    "                ('113',0.42,2018),\n",
    "                ('113',0.54,2019),\n",
    "                ('113',0.37,2020),\n",
    "                ('113',0.38,2021)\n",
    "\n",
    "              \n",
    "                \n",
    "          ''')\n",
    "conn.commit()"
   ]
  },
  {
   "cell_type": "code",
   "execution_count": 6,
   "id": "5804de51",
   "metadata": {},
   "outputs": [
    {
     "name": "stdout",
     "output_type": "stream",
     "text": [
      "   county_fips_id  county_name  value  years\n",
      "0               1      Alameda   0.58   2011\n",
      "1              47       Merced   0.43   2011\n",
      "2              67   Sacramento   0.50   2011\n",
      "3              77  San Joaquin   0.46   2011\n",
      "4              95       Solano   0.50   2011\n",
      "5              99   Stanislaus   0.48   2011\n",
      "6             113         Yolo   0.51   2011\n"
     ]
    }
   ],
   "source": [
    "conn = sqlite3.connect('soil_database') \n",
    "c = conn.cursor()\n",
    "                   \n",
    "c.execute('''\n",
    "          SELECT c.county_fips_id,c.county_name, s.value,s.years\n",
    "          FROM soil_wetness s\n",
    "          inner join counties c on s.county_fips_id = c.county_fips_id\n",
    "          where years = 2011\n",
    "          \n",
    "          ''')\n",
    "\n",
    "df = pd.DataFrame(c.fetchall(),columns=['county_fips_id','county_name','value','years'])\n",
    "print (df)\n",
    "\n"
   ]
  },
  {
   "cell_type": "code",
   "execution_count": 11,
   "id": "1d700868",
   "metadata": {},
   "outputs": [
    {
     "data": {
      "text/plain": [
       "0     0.58\n",
       "1     0.43\n",
       "2     0.50\n",
       "3     0.46\n",
       "4     0.50\n",
       "5     0.48\n",
       "6     0.51\n",
       "7     0.58\n",
       "8     0.43\n",
       "9     0.50\n",
       "10    0.46\n",
       "11    0.50\n",
       "12    0.48\n",
       "13    0.51\n",
       "14    0.58\n",
       "15    0.43\n",
       "16    0.50\n",
       "17    0.46\n",
       "18    0.50\n",
       "19    0.48\n",
       "20    0.51\n",
       "21    0.58\n",
       "22    0.43\n",
       "23    0.50\n",
       "24    0.46\n",
       "25    0.50\n",
       "26    0.48\n",
       "27    0.51\n",
       "Name: value, dtype: float64"
      ]
     },
     "execution_count": 11,
     "metadata": {},
     "output_type": "execute_result"
    }
   ],
   "source": [
    "df['value']"
   ]
  },
  {
   "cell_type": "code",
   "execution_count": 26,
   "id": "304ab3b6",
   "metadata": {},
   "outputs": [
    {
     "data": {
      "text/plain": [
       "<BarContainer object of 11 artists>"
      ]
     },
     "execution_count": 26,
     "metadata": {},
     "output_type": "execute_result"
    },
    {
     "data": {
      "image/png": "[encoded data removed]",
      "text/plain": [
       "<Figure size 432x288 with 1 Axes>"
      ]
     },
     "metadata": {
      "needs_background": "light"
     },
     "output_type": "display_data"
    }
   ],
   "source": [
    "import matplotlib.pyplot as plt\n",
    "\n",
    "plt.bar(df['years'],df['value'])"
   ]
  },
  {
   "cell_type": "code",
   "execution_count": 32,
   "id": "860f5013",
   "metadata": {},
   "outputs": [
    {
     "data": {
      "image/png": "[encoded data removed]",
      "text/plain": [
       "<Figure size 432x288 with 1 Axes>"
      ]
     },
     "metadata": {
      "needs_background": "light"
     },
     "output_type": "display_data"
    }
   ],
   "source": [
    "plt.hist2d(df['years'],df['value'],bins = 20)\n",
    "plt.show()"
   ]
  },
  {
   "cell_type": "code",
   "execution_count": 18,
   "id": "31986e35",
   "metadata": {
    "scrolled": true
   },
   "outputs": [
    {
     "data": {
      "image/png": "[encoded data removed]",
      "text/plain": [
       "<Figure size 864x576 with 1 Axes>"
      ]
     },
     "metadata": {
      "needs_background": "light"
     },
     "output_type": "display_data"
    }
   ],
   "source": [
    "import geopandas as gpd\n",
    "import geopandas as gpd\n",
    "import matplotlib.pyplot as plt\n",
    "import geoplot\n",
    "import geoplot.crs as gcrs\n",
    "import pandas as pd\n",
    "data = gpd.read_file(\"Counties_In_California.geojson\")\n",
    "county_map = geoplot.polyplot(data, projection=gcrs.AlbersEqualArea(), edgecolor='darkgrey', facecolor='lightgrey', linewidth=.3,figsize=(12, 8))\n"
   ]
  },
  {
   "cell_type": "code",
   "execution_count": null,
   "id": "ad96c0b0",
   "metadata": {},
   "outputs": [],
   "source": []
  }
 ],
 "metadata": {
  "kernelspec": {
   "display_name": "Python 3 (ipykernel)",
   "language": "python",
   "name": "python3"
  },
  "language_info": {
   "codemirror_mode": {
    "name": "ipython",
    "version": 3
   },
   "file_extension": ".py",
   "mimetype": "text/x-python",
   "name": "python",
   "nbconvert_exporter": "python",
   "pygments_lexer": "ipython3",
   "version": "3.9.7"
  }
 },
 "nbformat": 4,
 "nbformat_minor": 5
}
